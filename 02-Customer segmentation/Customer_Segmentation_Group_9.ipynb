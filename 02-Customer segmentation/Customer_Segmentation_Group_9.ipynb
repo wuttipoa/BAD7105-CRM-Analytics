{
 "cells": [
  {
   "cell_type": "markdown",
   "metadata": {
    "id": "UMaLrRucWxMu"
   },
   "source": [
    "**Group Members**\n",
    "\n",
    "1.Pisuttipong Mekdang (6220422083)\n",
    "\n",
    "2.Wuttipon Assawaniramol (6220422076)\n",
    "\n",
    "3.Thanisorn Saraphan (6220422060)"
   ]
  },
  {
   "cell_type": "markdown",
   "metadata": {
    "id": "EBrs3pprXxgd"
   },
   "source": [
    "# **Load Dependencies**"
   ]
  },
  {
   "cell_type": "code",
   "execution_count": 3,
   "metadata": {
    "colab": {
     "base_uri": "https://localhost:8080/"
    },
    "id": "CoDAX8UgdLEY",
    "outputId": "3cf4b2ff-0afb-49fe-f949-4b24c13aaea8"
   },
   "outputs": [
    {
     "name": "stdout",
     "output_type": "stream",
     "text": [
      "Collecting pycaret"
     ]
    },
    {
     "name": "stderr",
     "output_type": "stream",
     "text": [
      "WARNING: Ignoring invalid distribution -pencv-python (c:\\users\\user\\appdata\\local\\programs\\python\\python37\\lib\\site-packages)\n",
      "WARNING: Ignoring invalid distribution - (c:\\users\\user\\appdata\\local\\programs\\python\\python37\\lib\\site-packages)\n",
      "WARNING: Ignoring invalid distribution -pencv-python (c:\\users\\user\\appdata\\local\\programs\\python\\python37\\lib\\site-packages)\n",
      "WARNING: Ignoring invalid distribution - (c:\\users\\user\\appdata\\local\\programs\\python\\python37\\lib\\site-packages)\n",
      "WARNING: Ignoring invalid distribution -pencv-python (c:\\users\\user\\appdata\\local\\programs\\python\\python37\\lib\\site-packages)\n",
      "WARNING: Ignoring invalid distribution - (c:\\users\\user\\appdata\\local\\programs\\python\\python37\\lib\\site-packages)\n",
      "    WARNING: Ignoring invalid distribution -pencv-python (c:\\users\\user\\appdata\\local\\programs\\python\\python37\\lib\\site-packages)\n",
      "    WARNING: Ignoring invalid distribution - (c:\\users\\user\\appdata\\local\\programs\\python\\python37\\lib\\site-packages)\n",
      "ERROR: Could not install packages due to an OSError: [WinError 5] Access is denied: 'c:\\\\users\\\\user\\\\appdata\\\\local\\\\programs\\\\python\\\\python37\\\\lib\\\\site-packages\\\\~ywin32_system32\\\\pywintypes37.dll'\n",
      "Consider using the `--user` option or check the permissions.\n",
      "\n",
      "WARNING: Ignoring invalid distribution -pencv-python (c:\\users\\user\\appdata\\local\\programs\\python\\python37\\lib\\site-packages)\n",
      "WARNING: Ignoring invalid distribution - (c:\\users\\user\\appdata\\local\\programs\\python\\python37\\lib\\site-packages)\n",
      "WARNING: Ignoring invalid distribution -pencv-python (c:\\users\\user\\appdata\\local\\programs\\python\\python37\\lib\\site-packages)\n",
      "WARNING: Ignoring invalid distribution - (c:\\users\\user\\appdata\\local\\programs\\python\\python37\\lib\\site-packages)\n",
      "WARNING: Ignoring invalid distribution -pencv-python (c:\\users\\user\\appdata\\local\\programs\\python\\python37\\lib\\site-packages)\n",
      "WARNING: Ignoring invalid distribution - (c:\\users\\user\\appdata\\local\\programs\\python\\python37\\lib\\site-packages)\n",
      "WARNING: You are using pip version 21.1.3; however, version 21.3.1 is available.\n",
      "You should consider upgrading via the 'c:\\users\\user\\appdata\\local\\programs\\python\\python37\\python.exe -m pip install --upgrade pip' command.\n"
     ]
    },
    {
     "name": "stdout",
     "output_type": "stream",
     "text": [
      "\n",
      "  Downloading pycaret-2.3.5-py3-none-any.whl (288 kB)\n",
      "Collecting scikit-plot\n",
      "  Using cached scikit_plot-0.3.7-py3-none-any.whl (33 kB)\n",
      "Collecting imbalanced-learn==0.7.0\n",
      "  Downloading imbalanced_learn-0.7.0-py3-none-any.whl (167 kB)\n",
      "Collecting Boruta\n",
      "  Downloading Boruta-0.3-py3-none-any.whl (56 kB)\n",
      "Collecting plotly>=4.4.1\n",
      "  Downloading plotly-5.4.0-py2.py3-none-any.whl (25.3 MB)\n",
      "Collecting cufflinks>=0.17.0\n",
      "  Downloading cufflinks-0.17.3.tar.gz (81 kB)\n",
      "Collecting scikit-learn==0.23.2\n",
      "  Downloading scikit_learn-0.23.2-cp37-cp37m-win_amd64.whl (6.8 MB)\n",
      "Requirement already satisfied: mlxtend>=0.17.0 in c:\\users\\user\\appdata\\local\\programs\\python\\python37\\lib\\site-packages (from pycaret) (0.19.0)\n",
      "Collecting pandas-profiling>=2.8.0\n",
      "  Downloading pandas_profiling-3.1.0-py2.py3-none-any.whl (261 kB)\n",
      "Collecting spacy<2.4.0\n",
      "  Downloading spacy-2.3.7-cp37-cp37m-win_amd64.whl (9.6 MB)\n",
      "Requirement already satisfied: joblib in c:\\users\\user\\appdata\\local\\programs\\python\\python37\\lib\\site-packages (from pycaret) (1.0.1)\n",
      "Collecting pyLDAvis\n",
      "  Downloading pyLDAvis-3.3.1.tar.gz (1.7 MB)\n",
      "  Installing build dependencies: started\n",
      "  Installing build dependencies: finished with status 'done'\n",
      "  Getting requirements to build wheel: started\n",
      "  Getting requirements to build wheel: finished with status 'done'\n",
      "  Installing backend dependencies: started\n",
      "  Installing backend dependencies: finished with status 'done'\n",
      "    Preparing wheel metadata: started\n",
      "    Preparing wheel metadata: finished with status 'done'\n",
      "Collecting mlflow\n",
      "  Downloading mlflow-1.22.0-py3-none-any.whl (15.5 MB)\n",
      "Collecting scipy<=1.5.4\n",
      "  Downloading scipy-1.5.4-cp37-cp37m-win_amd64.whl (31.2 MB)\n",
      "Requirement already satisfied: umap-learn in c:\\users\\user\\appdata\\local\\programs\\python\\python37\\lib\\site-packages (from pycaret) (0.5.2)\n",
      "Collecting numpy==1.19.5\n",
      "  Downloading numpy-1.19.5-cp37-cp37m-win_amd64.whl (13.2 MB)\n",
      "Requirement already satisfied: pandas in c:\\users\\user\\appdata\\local\\programs\\python\\python37\\lib\\site-packages (from pycaret) (1.2.4)\n",
      "Collecting yellowbrick>=1.0.1\n",
      "  Downloading yellowbrick-1.3.post1-py3-none-any.whl (271 kB)\n",
      "Requirement already satisfied: seaborn in c:\\users\\user\\appdata\\local\\programs\\python\\python37\\lib\\site-packages (from pycaret) (0.11.1)\n",
      "Collecting textblob\n",
      "  Downloading textblob-0.17.1-py2.py3-none-any.whl (636 kB)\n",
      "Requirement already satisfied: IPython in c:\\users\\user\\appdata\\local\\programs\\python\\python37\\lib\\site-packages (from pycaret) (7.24.1)\n",
      "Collecting pyod\n",
      "  Downloading pyod-0.9.5.tar.gz (113 kB)\n",
      "Collecting ipywidgets\n",
      "  Downloading ipywidgets-7.6.5-py2.py3-none-any.whl (121 kB)\n",
      "Collecting gensim<4.0.0\n",
      "  Downloading gensim-3.8.3-cp37-cp37m-win_amd64.whl (24.2 MB)\n",
      "Collecting nltk\n",
      "  Downloading nltk-3.6.5-py3-none-any.whl (1.5 MB)\n",
      "Collecting wordcloud\n",
      "  Downloading wordcloud-1.8.1-cp37-cp37m-win_amd64.whl (154 kB)\n",
      "Requirement already satisfied: matplotlib in c:\\users\\user\\appdata\\local\\programs\\python\\python37\\lib\\site-packages (from pycaret) (3.4.2)\n",
      "Collecting lightgbm>=2.3.1\n",
      "  Downloading lightgbm-3.3.1-py3-none-win_amd64.whl (1.0 MB)\n",
      "Collecting kmodes>=0.10.1\n",
      "  Downloading kmodes-0.11.1-py2.py3-none-any.whl (19 kB)\n",
      "Requirement already satisfied: threadpoolctl>=2.0.0 in c:\\users\\user\\appdata\\local\\programs\\python\\python37\\lib\\site-packages (from scikit-learn==0.23.2->pycaret) (2.1.0)\n",
      "Requirement already satisfied: six>=1.9.0 in c:\\users\\user\\appdata\\local\\programs\\python\\python37\\lib\\site-packages (from cufflinks>=0.17.0->pycaret) (1.16.0)\n",
      "Collecting colorlover>=0.2.1\n",
      "  Downloading colorlover-0.3.0-py3-none-any.whl (8.9 kB)\n",
      "Requirement already satisfied: setuptools>=34.4.1 in c:\\users\\user\\appdata\\local\\programs\\python\\python37\\lib\\site-packages (from cufflinks>=0.17.0->pycaret) (58.1.0)\n",
      "Collecting smart-open>=1.8.1\n",
      "  Downloading smart_open-5.2.1-py3-none-any.whl (58 kB)\n",
      "Collecting Cython==0.29.14\n",
      "  Downloading Cython-0.29.14-cp37-cp37m-win_amd64.whl (1.7 MB)\n",
      "Requirement already satisfied: matplotlib-inline in c:\\users\\user\\appdata\\local\\programs\\python\\python37\\lib\\site-packages (from IPython->pycaret) (0.1.2)\n",
      "Requirement already satisfied: colorama in c:\\users\\user\\appdata\\local\\programs\\python\\python37\\lib\\site-packages (from IPython->pycaret) (0.4.4)\n",
      "Requirement already satisfied: decorator in c:\\users\\user\\appdata\\local\\programs\\python\\python37\\lib\\site-packages (from IPython->pycaret) (4.4.2)\n",
      "Requirement already satisfied: traitlets>=4.2 in c:\\users\\user\\appdata\\local\\programs\\python\\python37\\lib\\site-packages (from IPython->pycaret) (5.0.5)\n",
      "Requirement already satisfied: backcall in c:\\users\\user\\appdata\\local\\programs\\python\\python37\\lib\\site-packages (from IPython->pycaret) (0.2.0)\n",
      "Requirement already satisfied: pygments in c:\\users\\user\\appdata\\local\\programs\\python\\python37\\lib\\site-packages (from IPython->pycaret) (2.9.0)\n",
      "Requirement already satisfied: jedi>=0.16 in c:\\users\\user\\appdata\\local\\programs\\python\\python37\\lib\\site-packages (from IPython->pycaret) (0.18.0)\n",
      "Requirement already satisfied: prompt-toolkit!=3.0.0,!=3.0.1,<3.1.0,>=2.0.0 in c:\\users\\user\\appdata\\local\\programs\\python\\python37\\lib\\site-packages (from IPython->pycaret) (3.0.19)\n",
      "Requirement already satisfied: pickleshare in c:\\users\\user\\appdata\\local\\programs\\python\\python37\\lib\\site-packages (from IPython->pycaret) (0.7.5)\n",
      "Collecting jupyterlab-widgets>=1.0.0\n",
      "  Downloading jupyterlab_widgets-1.0.2-py3-none-any.whl (243 kB)\n",
      "Requirement already satisfied: ipython-genutils~=0.2.0 in c:\\users\\user\\appdata\\local\\programs\\python\\python37\\lib\\site-packages (from ipywidgets->pycaret) (0.2.0)\n",
      "Requirement already satisfied: nbformat>=4.2.0 in c:\\users\\user\\appdata\\local\\programs\\python\\python37\\lib\\site-packages (from ipywidgets->pycaret) (5.1.3)\n",
      "Requirement already satisfied: ipykernel>=4.5.1 in c:\\users\\user\\appdata\\local\\programs\\python\\python37\\lib\\site-packages (from ipywidgets->pycaret) (5.5.5)\n",
      "Collecting widgetsnbextension~=3.5.0\n",
      "  Downloading widgetsnbextension-3.5.2-py2.py3-none-any.whl (1.6 MB)\n",
      "Requirement already satisfied: jupyter-client in c:\\users\\user\\appdata\\local\\programs\\python\\python37\\lib\\site-packages (from ipykernel>=4.5.1->ipywidgets->pycaret) (6.1.12)\n",
      "Requirement already satisfied: tornado>=4.2 in c:\\users\\user\\appdata\\local\\programs\\python\\python37\\lib\\site-packages (from ipykernel>=4.5.1->ipywidgets->pycaret) (6.1)\n",
      "Requirement already satisfied: parso<0.9.0,>=0.8.0 in c:\\users\\user\\appdata\\local\\programs\\python\\python37\\lib\\site-packages (from jedi>=0.16->IPython->pycaret) (0.8.2)\n",
      "Requirement already satisfied: wheel in c:\\users\\user\\appdata\\local\\programs\\python\\python37\\lib\\site-packages (from lightgbm>=2.3.1->pycaret) (0.37.0)\n",
      "Requirement already satisfied: kiwisolver>=1.0.1 in c:\\users\\user\\appdata\\local\\programs\\python\\python37\\lib\\site-packages (from matplotlib->pycaret) (1.3.1)\n",
      "Requirement already satisfied: python-dateutil>=2.7 in c:\\users\\user\\appdata\\local\\programs\\python\\python37\\lib\\site-packages (from matplotlib->pycaret) (2.8.1)\n",
      "Requirement already satisfied: cycler>=0.10 in c:\\users\\user\\appdata\\local\\programs\\python\\python37\\lib\\site-packages (from matplotlib->pycaret) (0.10.0)\n",
      "Requirement already satisfied: pyparsing>=2.2.1 in c:\\users\\user\\appdata\\local\\programs\\python\\python37\\lib\\site-packages (from matplotlib->pycaret) (2.4.7)\n",
      "Requirement already satisfied: pillow>=6.2.0 in c:\\users\\user\\appdata\\local\\programs\\python\\python37\\lib\\site-packages (from matplotlib->pycaret) (8.2.0)\n",
      "Requirement already satisfied: jsonschema!=2.5.0,>=2.4 in c:\\users\\user\\appdata\\local\\programs\\python\\python37\\lib\\site-packages (from nbformat>=4.2.0->ipywidgets->pycaret) (3.2.0)\n",
      "Requirement already satisfied: jupyter-core in c:\\users\\user\\appdata\\local\\programs\\python\\python37\\lib\\site-packages (from nbformat>=4.2.0->ipywidgets->pycaret) (4.7.1)\n",
      "Requirement already satisfied: pyrsistent>=0.14.0 in c:\\users\\user\\appdata\\local\\programs\\python\\python37\\lib\\site-packages (from jsonschema!=2.5.0,>=2.4->nbformat>=4.2.0->ipywidgets->pycaret) (0.17.3)\n",
      "Requirement already satisfied: attrs>=17.4.0 in c:\\users\\user\\appdata\\local\\programs\\python\\python37\\lib\\site-packages (from jsonschema!=2.5.0,>=2.4->nbformat>=4.2.0->ipywidgets->pycaret) (21.2.0)\n",
      "Requirement already satisfied: importlib-metadata in c:\\users\\user\\appdata\\local\\programs\\python\\python37\\lib\\site-packages (from jsonschema!=2.5.0,>=2.4->nbformat>=4.2.0->ipywidgets->pycaret) (4.5.0)\n",
      "Requirement already satisfied: pytz>=2017.3 in c:\\users\\user\\appdata\\local\\programs\\python\\python37\\lib\\site-packages (from pandas->pycaret) (2021.1)\n",
      "Requirement already satisfied: requests>=2.24.0 in c:\\users\\user\\appdata\\local\\programs\\python\\python37\\lib\\site-packages (from pandas-profiling>=2.8.0->pycaret) (2.25.1)\n",
      "Requirement already satisfied: tqdm>=4.48.2 in c:\\users\\user\\appdata\\local\\programs\\python\\python37\\lib\\site-packages (from pandas-profiling>=2.8.0->pycaret) (4.62.3)\n",
      "Requirement already satisfied: markupsafe~=2.0.1 in c:\\users\\user\\appdata\\local\\programs\\python\\python37\\lib\\site-packages (from pandas-profiling>=2.8.0->pycaret) (2.0.1)\n",
      "Collecting missingno>=0.4.2\n",
      "  Downloading missingno-0.5.0-py3-none-any.whl (8.8 kB)\n",
      "Collecting visions[type_image_path]==0.7.4\n",
      "  Downloading visions-0.7.4-py3-none-any.whl (102 kB)\n",
      "Collecting phik>=0.11.1\n",
      "  Downloading phik-0.12.0-cp37-cp37m-win_amd64.whl (660 kB)\n",
      "Collecting tangled-up-in-unicode==0.1.0\n",
      "  Downloading tangled_up_in_unicode-0.1.0-py3-none-any.whl (3.1 MB)\n",
      "Requirement already satisfied: PyYAML>=5.0.0 in c:\\users\\user\\appdata\\local\\programs\\python\\python37\\lib\\site-packages (from pandas-profiling>=2.8.0->pycaret) (5.4.1)\n",
      "Collecting htmlmin>=0.1.12\n",
      "  Downloading htmlmin-0.1.12.tar.gz (19 kB)\n",
      "Collecting pydantic>=1.8.1\n",
      "  Downloading pydantic-1.8.2-cp37-cp37m-win_amd64.whl (1.9 MB)\n",
      "Requirement already satisfied: jinja2>=2.11.1 in c:\\users\\user\\appdata\\local\\programs\\python\\python37\\lib\\site-packages (from pandas-profiling>=2.8.0->pycaret) (3.0.1)\n",
      "Collecting multimethod>=1.4\n",
      "  Downloading multimethod-1.6-py3-none-any.whl (9.4 kB)\n",
      "Requirement already satisfied: networkx>=2.4 in c:\\users\\user\\appdata\\local\\programs\\python\\python37\\lib\\site-packages (from visions[type_image_path]==0.7.4->pandas-profiling>=2.8.0->pycaret) (2.5.1)\n",
      "Collecting imagehash\n",
      "  Downloading ImageHash-4.2.1.tar.gz (812 kB)\n",
      "Collecting tenacity>=6.2.0\n",
      "  Downloading tenacity-8.0.1-py3-none-any.whl (24 kB)\n",
      "Requirement already satisfied: wcwidth in c:\\users\\user\\appdata\\local\\programs\\python\\python37\\lib\\site-packages (from prompt-toolkit!=3.0.0,!=3.0.1,<3.1.0,>=2.0.0->IPython->pycaret) (0.2.5)\n",
      "Requirement already satisfied: typing-extensions>=3.7.4.3 in c:\\users\\user\\appdata\\local\\programs\\python\\python37\\lib\\site-packages (from pydantic>=1.8.1->pandas-profiling>=2.8.0->pycaret) (3.10.0.0)\n",
      "Requirement already satisfied: idna<3,>=2.5 in c:\\users\\user\\appdata\\local\\programs\\python\\python37\\lib\\site-packages (from requests>=2.24.0->pandas-profiling>=2.8.0->pycaret) (2.10)\n",
      "Requirement already satisfied: certifi>=2017.4.17 in c:\\users\\user\\appdata\\local\\programs\\python\\python37\\lib\\site-packages (from requests>=2.24.0->pandas-profiling>=2.8.0->pycaret) (2021.5.30)\n",
      "Requirement already satisfied: urllib3<1.27,>=1.21.1 in c:\\users\\user\\appdata\\local\\programs\\python\\python37\\lib\\site-packages (from requests>=2.24.0->pandas-profiling>=2.8.0->pycaret) (1.26.5)\n",
      "Requirement already satisfied: chardet<5,>=3.0.2 in c:\\users\\user\\appdata\\local\\programs\\python\\python37\\lib\\site-packages (from requests>=2.24.0->pandas-profiling>=2.8.0->pycaret) (4.0.0)\n",
      "Collecting catalogue<1.1.0,>=0.0.7\n",
      "  Downloading catalogue-1.0.0-py2.py3-none-any.whl (7.7 kB)\n",
      "Collecting blis<0.8.0,>=0.4.0\n",
      "  Downloading blis-0.7.5-cp37-cp37m-win_amd64.whl (6.5 MB)\n",
      "Collecting preshed<3.1.0,>=3.0.2\n",
      "  Downloading preshed-3.0.6-cp37-cp37m-win_amd64.whl (108 kB)\n",
      "Collecting plac<1.2.0,>=0.9.6\n",
      "  Downloading plac-1.1.3-py2.py3-none-any.whl (20 kB)\n",
      "Collecting srsly<1.1.0,>=1.0.2\n",
      "  Downloading srsly-1.0.5-cp37-cp37m-win_amd64.whl (176 kB)\n",
      "Collecting thinc<7.5.0,>=7.4.1\n",
      "  Downloading thinc-7.4.5-cp37-cp37m-win_amd64.whl (888 kB)\n",
      "Collecting cymem<2.1.0,>=2.0.2\n",
      "  Downloading cymem-2.0.6-cp37-cp37m-win_amd64.whl (35 kB)\n",
      "Collecting murmurhash<1.1.0,>=0.28.0\n",
      "  Downloading murmurhash-1.0.6-cp37-cp37m-win_amd64.whl (20 kB)\n",
      "Collecting wasabi<1.1.0,>=0.4.0\n",
      "  Downloading wasabi-0.9.0-py3-none-any.whl (25 kB)\n",
      "Requirement already satisfied: zipp>=0.5 in c:\\users\\user\\appdata\\local\\programs\\python\\python37\\lib\\site-packages (from importlib-metadata->jsonschema!=2.5.0,>=2.4->nbformat>=4.2.0->ipywidgets->pycaret) (3.4.1)\n",
      "Requirement already satisfied: notebook>=4.4.1 in c:\\users\\user\\appdata\\local\\programs\\python\\python37\\lib\\site-packages (from widgetsnbextension~=3.5.0->ipywidgets->pycaret) (6.4.0)\n",
      "Requirement already satisfied: argon2-cffi in c:\\users\\user\\appdata\\local\\programs\\python\\python37\\lib\\site-packages (from notebook>=4.4.1->widgetsnbextension~=3.5.0->ipywidgets->pycaret) (20.1.0)\n",
      "Requirement already satisfied: Send2Trash>=1.5.0 in c:\\users\\user\\appdata\\local\\programs\\python\\python37\\lib\\site-packages (from notebook>=4.4.1->widgetsnbextension~=3.5.0->ipywidgets->pycaret) (1.5.0)\n",
      "Requirement already satisfied: nbconvert in c:\\users\\user\\appdata\\local\\programs\\python\\python37\\lib\\site-packages (from notebook>=4.4.1->widgetsnbextension~=3.5.0->ipywidgets->pycaret) (6.0.7)\n",
      "Requirement already satisfied: pyzmq>=17 in c:\\users\\user\\appdata\\local\\programs\\python\\python37\\lib\\site-packages (from notebook>=4.4.1->widgetsnbextension~=3.5.0->ipywidgets->pycaret) (22.1.0)\n",
      "Requirement already satisfied: prometheus-client in c:\\users\\user\\appdata\\local\\programs\\python\\python37\\lib\\site-packages (from notebook>=4.4.1->widgetsnbextension~=3.5.0->ipywidgets->pycaret) (0.11.0)\n",
      "Requirement already satisfied: terminado>=0.8.3 in c:\\users\\user\\appdata\\local\\programs\\python\\python37\\lib\\site-packages (from notebook>=4.4.1->widgetsnbextension~=3.5.0->ipywidgets->pycaret) (0.10.1)\n",
      "Requirement already satisfied: pywin32>=1.0 in c:\\users\\user\\appdata\\local\\programs\\python\\python37\\lib\\site-packages (from jupyter-core->nbformat>=4.2.0->ipywidgets->pycaret) (301)\n",
      "Requirement already satisfied: pywinpty>=1.1.0 in c:\\users\\user\\appdata\\local\\programs\\python\\python37\\lib\\site-packages (from terminado>=0.8.3->notebook>=4.4.1->widgetsnbextension~=3.5.0->ipywidgets->pycaret) (1.1.2)\n",
      "Requirement already satisfied: cffi>=1.0.0 in c:\\users\\user\\appdata\\local\\programs\\python\\python37\\lib\\site-packages (from argon2-cffi->notebook>=4.4.1->widgetsnbextension~=3.5.0->ipywidgets->pycaret) (1.14.5)\n",
      "Requirement already satisfied: pycparser in c:\\users\\user\\appdata\\local\\programs\\python\\python37\\lib\\site-packages (from cffi>=1.0.0->argon2-cffi->notebook>=4.4.1->widgetsnbextension~=3.5.0->ipywidgets->pycaret) (2.20)\n",
      "Requirement already satisfied: PyWavelets in c:\\users\\user\\appdata\\local\\programs\\python\\python37\\lib\\site-packages (from imagehash->visions[type_image_path]==0.7.4->pandas-profiling>=2.8.0->pycaret) (1.1.1)\n",
      "Collecting prometheus-flask-exporter\n",
      "  Downloading prometheus_flask_exporter-0.18.6-py3-none-any.whl (17 kB)\n",
      "Collecting docker>=4.0.0\n",
      "  Downloading docker-5.0.3-py2.py3-none-any.whl (146 kB)\n",
      "Collecting sqlparse>=0.3.1\n",
      "  Downloading sqlparse-0.4.2-py3-none-any.whl (42 kB)\n",
      "Requirement already satisfied: packaging in c:\\users\\user\\appdata\\local\\programs\\python\\python37\\lib\\site-packages (from mlflow->pycaret) (20.9)\n",
      "Collecting click>=7.0\n",
      "  Downloading click-8.0.3-py3-none-any.whl (97 kB)\n",
      "Collecting gitpython>=2.1.0\n",
      "  Downloading GitPython-3.1.24-py3-none-any.whl (180 kB)\n",
      "Collecting querystring-parser\n",
      "  Downloading querystring_parser-1.2.4-py2.py3-none-any.whl (7.9 kB)\n",
      "Requirement already satisfied: entrypoints in c:\\users\\user\\appdata\\local\\programs\\python\\python37\\lib\\site-packages (from mlflow->pycaret) (0.3)\n",
      "Collecting alembic<=1.4.1\n",
      "  Downloading alembic-1.4.1.tar.gz (1.1 MB)\n",
      "Requirement already satisfied: protobuf>=3.7.0 in c:\\users\\user\\appdata\\local\\programs\\python\\python37\\lib\\site-packages (from mlflow->pycaret) (3.17.3)\n",
      "Collecting databricks-cli>=0.8.7\n",
      "  Downloading databricks-cli-0.16.2.tar.gz (58 kB)\n",
      "Collecting Flask\n",
      "  Downloading Flask-2.0.2-py3-none-any.whl (95 kB)\n",
      "Collecting waitress\n",
      "  Downloading waitress-2.0.0-py3-none-any.whl (56 kB)\n",
      "Requirement already satisfied: cloudpickle in c:\\users\\user\\appdata\\local\\programs\\python\\python37\\lib\\site-packages (from mlflow->pycaret) (2.0.0)\n",
      "Collecting sqlalchemy\n",
      "  Downloading SQLAlchemy-1.4.28-cp37-cp37m-win_amd64.whl (1.5 MB)\n",
      "Collecting Mako\n",
      "  Downloading Mako-1.1.6-py2.py3-none-any.whl (75 kB)\n",
      "Collecting python-editor>=0.3\n",
      "  Downloading python_editor-1.0.4-py3-none-any.whl (4.9 kB)\n",
      "Collecting tabulate>=0.7.7\n",
      "  Downloading tabulate-0.8.9-py3-none-any.whl (25 kB)\n",
      "Collecting pywin32>=1.0\n",
      "  Downloading pywin32-227-cp37-cp37m-win_amd64.whl (9.1 MB)\n",
      "Collecting websocket-client>=0.32.0\n",
      "  Downloading websocket_client-1.2.3-py3-none-any.whl (53 kB)\n",
      "Collecting gitdb<5,>=4.0.1\n",
      "  Downloading gitdb-4.0.9-py3-none-any.whl (63 kB)\n",
      "Collecting smmap<6,>=3.0.1\n",
      "  Downloading smmap-5.0.0-py3-none-any.whl (24 kB)\n",
      "Collecting greenlet!=0.4.17\n",
      "  Downloading greenlet-1.1.2-cp37-cp37m-win_amd64.whl (101 kB)\n",
      "Collecting itsdangerous>=2.0\n",
      "  Downloading itsdangerous-2.0.1-py3-none-any.whl (18 kB)\n",
      "Requirement already satisfied: Werkzeug>=2.0 in c:\\users\\user\\appdata\\local\\programs\\python\\python37\\lib\\site-packages (from Flask->mlflow->pycaret) (2.0.1)\n",
      "Requirement already satisfied: nbclient<0.6.0,>=0.5.0 in c:\\users\\user\\appdata\\local\\programs\\python\\python37\\lib\\site-packages (from nbconvert->notebook>=4.4.1->widgetsnbextension~=3.5.0->ipywidgets->pycaret) (0.5.3)\n",
      "Requirement already satisfied: bleach in c:\\users\\user\\appdata\\local\\programs\\python\\python37\\lib\\site-packages (from nbconvert->notebook>=4.4.1->widgetsnbextension~=3.5.0->ipywidgets->pycaret) (3.3.0)\n",
      "Requirement already satisfied: defusedxml in c:\\users\\user\\appdata\\local\\programs\\python\\python37\\lib\\site-packages (from nbconvert->notebook>=4.4.1->widgetsnbextension~=3.5.0->ipywidgets->pycaret) (0.7.1)\n",
      "Requirement already satisfied: mistune<2,>=0.8.1 in c:\\users\\user\\appdata\\local\\programs\\python\\python37\\lib\\site-packages (from nbconvert->notebook>=4.4.1->widgetsnbextension~=3.5.0->ipywidgets->pycaret) (0.8.4)\n",
      "Requirement already satisfied: testpath in c:\\users\\user\\appdata\\local\\programs\\python\\python37\\lib\\site-packages (from nbconvert->notebook>=4.4.1->widgetsnbextension~=3.5.0->ipywidgets->pycaret) (0.5.0)\n",
      "Requirement already satisfied: jupyterlab-pygments in c:\\users\\user\\appdata\\local\\programs\\python\\python37\\lib\\site-packages (from nbconvert->notebook>=4.4.1->widgetsnbextension~=3.5.0->ipywidgets->pycaret) (0.1.2)\n",
      "Requirement already satisfied: pandocfilters>=1.4.1 in c:\\users\\user\\appdata\\local\\programs\\python\\python37\\lib\\site-packages (from nbconvert->notebook>=4.4.1->widgetsnbextension~=3.5.0->ipywidgets->pycaret) (1.4.3)\n",
      "Requirement already satisfied: async-generator in c:\\users\\user\\appdata\\local\\programs\\python\\python37\\lib\\site-packages (from nbclient<0.6.0,>=0.5.0->nbconvert->notebook>=4.4.1->widgetsnbextension~=3.5.0->ipywidgets->pycaret) (1.10)\n",
      "Requirement already satisfied: nest-asyncio in c:\\users\\user\\appdata\\local\\programs\\python\\python37\\lib\\site-packages (from nbclient<0.6.0,>=0.5.0->nbconvert->notebook>=4.4.1->widgetsnbextension~=3.5.0->ipywidgets->pycaret) (1.5.1)\n",
      "Requirement already satisfied: webencodings in c:\\users\\user\\appdata\\local\\programs\\python\\python37\\lib\\site-packages (from bleach->nbconvert->notebook>=4.4.1->widgetsnbextension~=3.5.0->ipywidgets->pycaret) (0.5.1)\n",
      "Collecting regex>=2021.8.3\n",
      "  Downloading regex-2021.11.10-cp37-cp37m-win_amd64.whl (272 kB)\n",
      "Collecting pyLDAvis\n",
      "  Downloading pyLDAvis-3.3.0.tar.gz (1.7 MB)\n",
      "  Installing build dependencies: started\n",
      "  Installing build dependencies: finished with status 'done'\n",
      "  Getting requirements to build wheel: started\n",
      "  Getting requirements to build wheel: finished with status 'done'\n",
      "  Installing backend dependencies: started\n",
      "  Installing backend dependencies: finished with status 'done'\n",
      "    Preparing wheel metadata: started\n",
      "    Preparing wheel metadata: finished with status 'done'\n",
      "  Downloading pyLDAvis-3.2.2.tar.gz (1.7 MB)\n",
      "Collecting numexpr\n",
      "  Downloading numexpr-2.8.1-cp37-cp37m-win_amd64.whl (88 kB)\n",
      "Collecting future\n",
      "  Downloading future-0.18.2.tar.gz (829 kB)\n",
      "Collecting funcy\n",
      "  Downloading funcy-1.16-py2.py3-none-any.whl (32 kB)\n",
      "Requirement already satisfied: numba>=0.35 in c:\\users\\user\\appdata\\local\\programs\\python\\python37\\lib\\site-packages (from pyod->pycaret) (0.54.1)\n",
      "Collecting statsmodels\n",
      "  Downloading statsmodels-0.13.1-cp37-none-win_amd64.whl (9.4 MB)\n",
      "Requirement already satisfied: llvmlite<0.38,>=0.37.0rc1 in c:\\users\\user\\appdata\\local\\programs\\python\\python37\\lib\\site-packages (from numba>=0.35->pyod->pycaret) (0.37.0)\n",
      "Collecting patsy>=0.5.2\n",
      "  Downloading patsy-0.5.2-py2.py3-none-any.whl (233 kB)\n",
      "Requirement already satisfied: pynndescent>=0.5 in c:\\users\\user\\appdata\\local\\programs\\python\\python37\\lib\\site-packages (from umap-learn->pycaret) (0.5.5)\n",
      "Building wheels for collected packages: cufflinks, htmlmin, imagehash, alembic, databricks-cli, pyLDAvis, future, pyod\n",
      "  Building wheel for cufflinks (setup.py): started\n",
      "  Building wheel for cufflinks (setup.py): finished with status 'done'\n",
      "  Created wheel for cufflinks: filename=cufflinks-0.17.3-py3-none-any.whl size=68734 sha256=72115ad1413ae2181eefc3606f8dec4b11912981449444eaf6a29268de6f2414\n",
      "  Stored in directory: c:\\users\\user\\appdata\\local\\pip\\cache\\wheels\\e1\\27\\13\\3fe67fa7ea7be444b831d117220b3b586b872c9acd4df480d0\n",
      "  Building wheel for htmlmin (setup.py): started\n",
      "  Building wheel for htmlmin (setup.py): finished with status 'done'\n",
      "  Created wheel for htmlmin: filename=htmlmin-0.1.12-py3-none-any.whl size=27098 sha256=93efcb53f94a3b27577ce17b935280680942e0afe58d7c7b810da104dd214565\n",
      "  Stored in directory: c:\\users\\user\\appdata\\local\\pip\\cache\\wheels\\70\\e1\\52\\5b14d250ba868768823940c3229e9950d201a26d0bd3ee8655\n",
      "  Building wheel for imagehash (setup.py): started\n",
      "  Building wheel for imagehash (setup.py): finished with status 'done'\n",
      "  Created wheel for imagehash: filename=ImageHash-4.2.1-py2.py3-none-any.whl size=295207 sha256=b9ae7449183f90e400bfba72f1459eba5de747d3d055b595796f2c87c5bfc672\n",
      "  Stored in directory: c:\\users\\user\\appdata\\local\\pip\\cache\\wheels\\4c\\d5\\59\\5e3e297533ddb09407769762985d134135064c6831e29a914e\n",
      "  Building wheel for alembic (setup.py): started\n",
      "  Building wheel for alembic (setup.py): finished with status 'done'\n",
      "  Created wheel for alembic: filename=alembic-1.4.1-py2.py3-none-any.whl size=158172 sha256=ed3276e370dcb75ce4961b7c1b7737751a73c1915648389f158edce1715e687b\n",
      "  Stored in directory: c:\\users\\user\\appdata\\local\\pip\\cache\\wheels\\be\\5d\\0a\\9e13f53f4f5dfb67cd8d245bb7cdffe12f135846f491a283e3\n",
      "  Building wheel for databricks-cli (setup.py): started\n",
      "  Building wheel for databricks-cli (setup.py): finished with status 'done'\n",
      "  Created wheel for databricks-cli: filename=databricks_cli-0.16.2-py3-none-any.whl size=106811 sha256=ce7bd2cb7ece4b001826c7572a9ef8128747109172f15c4a12ab94d2e0fee634\n",
      "  Stored in directory: c:\\users\\user\\appdata\\local\\pip\\cache\\wheels\\f4\\5c\\ed\\e1ce20a53095f63b27b4964abbad03e59cf3472822addf7d29\n",
      "  Building wheel for pyLDAvis (setup.py): started\n",
      "  Building wheel for pyLDAvis (setup.py): finished with status 'done'\n",
      "  Created wheel for pyLDAvis: filename=pyLDAvis-3.2.2-py2.py3-none-any.whl size=135618 sha256=4361ca6a0729903b5d2f20fd858aa946a3f16bb50547732b2fa51a970ef87e26\n",
      "  Stored in directory: c:\\users\\user\\appdata\\local\\pip\\cache\\wheels\\f8\\b1\\9b\\560ac1931796b7303f7b517b949d2d31a4fbc512aad3b9f284\n",
      "  Building wheel for future (setup.py): started\n",
      "  Building wheel for future (setup.py): finished with status 'done'\n",
      "  Created wheel for future: filename=future-0.18.2-py3-none-any.whl size=491070 sha256=ed801fcd0f1009c2fa35df5681cb8c15b15405c3383af63e97bc71dc59b11def\n",
      "  Stored in directory: c:\\users\\user\\appdata\\local\\pip\\cache\\wheels\\56\\b0\\fe\\4410d17b32f1f0c3cf54cdfb2bc04d7b4b8f4ae377e2229ba0\n",
      "  Building wheel for pyod (setup.py): started\n",
      "  Building wheel for pyod (setup.py): finished with status 'done'\n",
      "  Created wheel for pyod: filename=pyod-0.9.5-py3-none-any.whl size=132699 sha256=93cbd031a0c979e640728a6e5d719984f02c53a5a1cb5fdd3ff4e4807ce6de07\n",
      "  Stored in directory: c:\\users\\user\\appdata\\local\\pip\\cache\\wheels\\3d\\bb\\b7\\62b60fb451b33b0df1ab8006697fba7a6a49709a629055cf77\n",
      "Successfully built cufflinks htmlmin imagehash alembic databricks-cli pyLDAvis future pyod\n",
      "Installing collected packages: pywin32, numpy, tangled-up-in-unicode, smmap, scipy, murmurhash, multimethod, itsdangerous, greenlet, cymem, click, widgetsnbextension, websocket-client, wasabi, visions, tenacity, tabulate, srsly, sqlalchemy, scikit-learn, regex, python-editor, preshed, plac, patsy, Mako, jupyterlab-widgets, imagehash, gitdb, Flask, catalogue, blis, waitress, thinc, statsmodels, sqlparse, smart-open, querystring-parser, pydantic, prometheus-flask-exporter, plotly, phik, numexpr, nltk, missingno, ipywidgets, htmlmin, gitpython, future, funcy, docker, databricks-cli, Cython, colorlover, alembic, yellowbrick, wordcloud, textblob, spacy, scikit-plot, pyod, pyLDAvis, pandas-profiling, mlflow, lightgbm, kmodes, imbalanced-learn, gensim, cufflinks, Boruta, pycaret\n",
      "  Attempting uninstall: pywin32\n",
      "    Found existing installation: pywin32 301\n",
      "    Uninstalling pywin32-301:\n",
      "      Successfully uninstalled pywin32-301\n"
     ]
    }
   ],
   "source": [
    "!pip install pycaret"
   ]
  },
  {
   "cell_type": "code",
   "execution_count": 2,
   "metadata": {
    "id": "ZEJqM2LDXzeO"
   },
   "outputs": [
    {
     "ename": "ModuleNotFoundError",
     "evalue": "No module named 'pycaret'",
     "output_type": "error",
     "traceback": [
      "\u001b[1;31m---------------------------------------------------------------------------\u001b[0m",
      "\u001b[1;31mModuleNotFoundError\u001b[0m                       Traceback (most recent call last)",
      "\u001b[1;32m<ipython-input-2-1641b128f0b1>\u001b[0m in \u001b[0;36m<module>\u001b[1;34m\u001b[0m\n\u001b[0;32m      1\u001b[0m \u001b[1;32mimport\u001b[0m \u001b[0mpandas\u001b[0m \u001b[1;32mas\u001b[0m \u001b[0mpd\u001b[0m\u001b[1;33m\u001b[0m\u001b[1;33m\u001b[0m\u001b[0m\n\u001b[1;32m----> 2\u001b[1;33m \u001b[1;32mfrom\u001b[0m \u001b[0mpycaret\u001b[0m\u001b[1;33m.\u001b[0m\u001b[0mclustering\u001b[0m \u001b[1;32mimport\u001b[0m \u001b[1;33m*\u001b[0m\u001b[1;33m\u001b[0m\u001b[1;33m\u001b[0m\u001b[0m\n\u001b[0m",
      "\u001b[1;31mModuleNotFoundError\u001b[0m: No module named 'pycaret'"
     ]
    }
   ],
   "source": [
    "import pandas as pd\n",
    "from pycaret.clustering import *"
   ]
  },
  {
   "cell_type": "markdown",
   "metadata": {
    "id": "2xny9554XYb1"
   },
   "source": [
    "# **Load Data**"
   ]
  },
  {
   "cell_type": "code",
   "execution_count": null,
   "metadata": {
    "id": "OM9zL68EW2yP"
   },
   "outputs": [],
   "source": [
    "df = pd.read_csv('/content/Supermarket Data.csv')"
   ]
  },
  {
   "cell_type": "code",
   "execution_count": null,
   "metadata": {
    "id": "2CXsVmu5aoQv"
   },
   "outputs": [],
   "source": [
    "df['SHOP_DATE'] = df['SHOP_DATE'].apply(lambda x: pd.to_datetime(str(x), format='%Y%m%d'))"
   ]
  },
  {
   "cell_type": "code",
   "execution_count": null,
   "metadata": {
    "colab": {
     "base_uri": "https://localhost:8080/",
     "height": 307
    },
    "id": "yKXMZKrnbKae",
    "outputId": "4c435e08-680a-40a7-987f-bf7a337fd9cb"
   },
   "outputs": [],
   "source": [
    "df.tail(5)"
   ]
  },
  {
   "cell_type": "code",
   "execution_count": null,
   "metadata": {
    "id": "1Jj-dkpvX6Y0"
   },
   "outputs": [],
   "source": [
    "df.info()"
   ]
  },
  {
   "cell_type": "markdown",
   "metadata": {
    "id": "WPe-XFcaYF2-"
   },
   "source": [
    "# **Prepare customer single view**"
   ]
  },
  {
   "cell_type": "markdown",
   "metadata": {
    "id": "gXJlNnEeYdMp"
   },
   "source": [
    "# Calculate features"
   ]
  },
  {
   "cell_type": "code",
   "execution_count": null,
   "metadata": {
    "id": "b1GUkNel4sH5"
   },
   "outputs": [],
   "source": [
    "from scipy import stats"
   ]
  },
  {
   "cell_type": "code",
   "execution_count": null,
   "metadata": {
    "id": "7M7PGCkGY9XP"
   },
   "outputs": [],
   "source": [
    "##prepare customer single view\n",
    "df_csv = df_groupby = df[df['CUST_CODE'].notnull()].groupby(by=['CUST_CODE']).agg(TotalSpend=('SPEND', 'sum'),\n",
    "                                                                                  TotalVisits=('BASKET_ID', 'nunique'),\n",
    "                                                                                  TotalProd=('PROD_CODE', 'nunique'),\n",
    "                                                                                  SHOP_WEEKDAYS=('SHOP_WEEKDAY',lambda x: stats.mode(x)[0][0]),\n",
    "                                                                                  SHOP_HOURS = ('SHOP_HOUR',lambda x: stats.mode(x)[0][0]),\n",
    "                                                                                  BASKET_DOMINANT = ('BASKET_DOMINANT_MISSION',lambda x: stats.mode(x)[0][0])\n",
    "                                                                                  ).reset_index()"
   ]
  },
  {
   "cell_type": "code",
   "execution_count": null,
   "metadata": {
    "colab": {
     "base_uri": "https://localhost:8080/",
     "height": 417
    },
    "id": "_d1YLMAOpwHX",
    "outputId": "30542766-2722-4dcd-aa7b-f95d85d383ab"
   },
   "outputs": [],
   "source": [
    "df_csv"
   ]
  },
  {
   "cell_type": "code",
   "execution_count": null,
   "metadata": {
    "id": "oE-U7NLlZ-lH"
   },
   "outputs": [],
   "source": [
    "##calculate ticket size\n",
    "df_csv['TicketSize'] = df_csv['TotalSpend']/df_csv['TotalVisits']"
   ]
  },
  {
   "cell_type": "code",
   "execution_count": null,
   "metadata": {
    "id": "R6I2VuC5LyFw"
   },
   "outputs": [],
   "source": [
    "df_csv['BASKET_DOMINANT'].replace({'Grocery':0,'Fresh':1,'Mixed':2,'Nonfood':3,'XX':4},inplace=True)"
   ]
  },
  {
   "cell_type": "code",
   "execution_count": null,
   "metadata": {
    "colab": {
     "base_uri": "https://localhost:8080/",
     "height": 203
    },
    "id": "xkEZi9bUaUDv",
    "outputId": "4909f75b-070c-4286-cf3c-de2b5f3d5112"
   },
   "outputs": [],
   "source": [
    "#Feature\n",
    "df_csv.head(5)"
   ]
  },
  {
   "cell_type": "markdown",
   "metadata": {
    "id": "TaZuJcNEcsJ4"
   },
   "source": [
    "# **Cluster customers**"
   ]
  },
  {
   "cell_type": "code",
   "execution_count": null,
   "metadata": {
    "colab": {
     "base_uri": "https://localhost:8080/",
     "height": 1000,
     "referenced_widgets": [
      "c61c61e86d1e4cc58eaf2d0616d685d6",
      "bcc5ea7c0dfc43d2b053dd8e3924b565",
      "86c79c214d4e47cfbd92ad4c7ede5c92",
      "798ed3bbe6364287ac243d2c6da2b00d",
      "a16cd9bc1c0f4cafbd285c4e94d8cc1b",
      "ae36964831364b049e4acb21dc837c97"
     ]
    },
    "id": "DLIeB9QLeLJy",
    "outputId": "da85b93f-5703-4461-cc76-354dced1bf8c"
   },
   "outputs": [],
   "source": [
    "exp_clu = setup(data=df_csv, ignore_features=['CUST_CODE'], normalize=True)"
   ]
  },
  {
   "cell_type": "code",
   "execution_count": null,
   "metadata": {
    "colab": {
     "base_uri": "https://localhost:8080/",
     "height": 357
    },
    "id": "az9e76YxfLrU",
    "outputId": "cad3c9bb-1415-429b-c0b8-4b9362e86cca"
   },
   "outputs": [],
   "source": [
    "models()"
   ]
  },
  {
   "cell_type": "code",
   "execution_count": null,
   "metadata": {
    "colab": {
     "base_uri": "https://localhost:8080/",
     "height": 265
    },
    "id": "uZWDFuD4eWpu",
    "outputId": "27e49117-ab5b-4b58-d677-a30da6486c3c"
   },
   "outputs": [],
   "source": [
    "get_metrics()"
   ]
  },
  {
   "cell_type": "markdown",
   "metadata": {
    "id": "fdlWGizjgubh"
   },
   "source": [
    "# Compare model performance"
   ]
  },
  {
   "cell_type": "code",
   "execution_count": null,
   "metadata": {
    "colab": {
     "base_uri": "https://localhost:8080/",
     "height": 0,
     "referenced_widgets": [
      "91ef84c0f809414babb478a755eb12bb",
      "68dfc88236ff47cd965e6a58f2ce2a9d",
      "cb45bb3011db41dba7d4e007119fae5c",
      "c821ff6d6aeb49ba9bbfe8e027c81fbe",
      "7d5bd6925b2c4f98a63722690705227f",
      "56b16badb9db444ab49f373541144534",
      "d1c00dc0cab244ec8d9e52ed5b3299fc",
      "e7ed0c091ba44ea595d5e82153b9aea5",
      "eb97f2e893ae471698cce0ebafea3d3f",
      "2756cc831df14cd6a1b3edfca42fe439",
      "5783236ed5154a4abab9e5450440ee0f",
      "45585f4b02d34c2fb9518bb1cd58ea11"
     ]
    },
    "id": "2JsOozQXgzva",
    "outputId": "d5962f0b-70c0-4dc9-8266-f09d5f3794d7"
   },
   "outputs": [],
   "source": [
    "metrics = []\n",
    "for model in models().index:\n",
    "    if model in ['meanshift', 'optics']:\n",
    "        continue\n",
    "    create_model(model)\n",
    "    metric_result = pull()\n",
    "    metric_result['model'] = model\n",
    "    metrics.append(metric_result)"
   ]
  },
  {
   "cell_type": "code",
   "execution_count": null,
   "metadata": {
    "colab": {
     "base_uri": "https://localhost:8080/",
     "height": 0
    },
    "id": "J9Mfo3iug_1L",
    "outputId": "fe12d47d-b6ea-4d81-adc7-063f7581a836"
   },
   "outputs": [],
   "source": [
    "cluster_metrics = pd.concat(metrics)\n",
    "cluster_metrics.set_index(\"model\", inplace=True)\n",
    "cluster_metrics.sort_values(by='Silhouette', ascending=False, inplace=True)\n",
    "cluster_metrics.style.highlight_max(subset=['Silhouette', 'Calinski-Harabasz'], color = 'green', axis = 0).highlight_min(subset=['Davies-Bouldin'], color = 'green', axis = 0)"
   ]
  },
  {
   "cell_type": "markdown",
   "metadata": {
    "id": "SA8ORLUJgccP"
   },
   "source": [
    "# Spectral Clustering Clustering"
   ]
  },
  {
   "cell_type": "code",
   "execution_count": null,
   "metadata": {
    "colab": {
     "base_uri": "https://localhost:8080/",
     "height": 0,
     "referenced_widgets": [
      "27653418ad254c96a8dcc6e101201a9d",
      "54bea1c9bb5647a58a104e88b9c25674",
      "d7f66f3e3ea84de6858dcf9a87786ba9"
     ]
    },
    "id": "OngjOQ2KglwD",
    "outputId": "4a918c5d-e64d-4c87-d57b-2528b6641b96"
   },
   "outputs": [],
   "source": [
    "sc = create_model('sc')"
   ]
  },
  {
   "cell_type": "code",
   "execution_count": null,
   "metadata": {
    "colab": {
     "base_uri": "https://localhost:8080/",
     "height": 0
    },
    "id": "Vy840t_Qhgw-",
    "outputId": "a12a4948-3e88-46a1-b814-48d8789ce4ff"
   },
   "outputs": [],
   "source": [
    "plot_model(sc)"
   ]
  },
  {
   "cell_type": "markdown",
   "metadata": {
    "id": "KWdoADhnDhMw"
   },
   "source": [
    "# AP"
   ]
  },
  {
   "cell_type": "code",
   "execution_count": null,
   "metadata": {
    "colab": {
     "base_uri": "https://localhost:8080/",
     "height": 658,
     "referenced_widgets": [
      "b0c9c956d0da4ef3b97fbe34076478f5",
      "d4f252800032496cb14ae40399934e6f",
      "60683a2b098744098e167b18cd9f7d75"
     ]
    },
    "id": "IAg-kkZKA5te",
    "outputId": "9911e584-7428-4dec-f5a0-277fb36983dd"
   },
   "outputs": [],
   "source": [
    "ap = create_model('ap')"
   ]
  },
  {
   "cell_type": "code",
   "execution_count": null,
   "metadata": {
    "colab": {
     "base_uri": "https://localhost:8080/",
     "height": 167
    },
    "id": "ESXxybEZA866",
    "outputId": "157d63f6-f7c8-425c-958e-a69f3a86eab3"
   },
   "outputs": [],
   "source": [
    "plot_model(ap)"
   ]
  },
  {
   "cell_type": "markdown",
   "metadata": {
    "id": "-ay8Bukaf16N"
   },
   "source": [
    "# KMeans Clustering"
   ]
  },
  {
   "cell_type": "code",
   "execution_count": null,
   "metadata": {
    "colab": {
     "base_uri": "https://localhost:8080/",
     "height": 80,
     "referenced_widgets": [
      "455e847530fd45df89c958c14a442bda",
      "d089d80219ff4cf19f74dd857e9b4bb8",
      "c9aea1858d024349ac204df3d98e067b"
     ]
    },
    "id": "VqfVGrbDfdJz",
    "outputId": "b2b2d1de-8cdc-4e95-b6f3-27e14c2ae88a"
   },
   "outputs": [],
   "source": [
    "kmeans = create_model('kmeans',num_clusters=5)"
   ]
  },
  {
   "cell_type": "code",
   "execution_count": null,
   "metadata": {
    "colab": {
     "base_uri": "https://localhost:8080/"
    },
    "id": "9XeLgOF3gDlp",
    "outputId": "1aa4bb11-9025-42d0-8a7c-9004a7fc5e71"
   },
   "outputs": [],
   "source": [
    "print(kmeans)"
   ]
  },
  {
   "cell_type": "code",
   "execution_count": null,
   "metadata": {
    "colab": {
     "base_uri": "https://localhost:8080/",
     "height": 617
    },
    "id": "CJNt7BHsgI7S",
    "outputId": "7d606663-22d5-42c7-c4cd-ef925c4cb840"
   },
   "outputs": [],
   "source": [
    "plot_model(kmeans)"
   ]
  },
  {
   "cell_type": "code",
   "execution_count": null,
   "metadata": {
    "colab": {
     "base_uri": "https://localhost:8080/",
     "height": 376,
     "referenced_widgets": [
      "1a44314fd36141c68b38a74d5be14c34",
      "e60933e8ac3a43a39f92e7c49cb58d50",
      "08f1e47e8e5e4e50a2ad7d6b56ae98ee"
     ]
    },
    "id": "J_PkkXvQgNYT",
    "outputId": "879b01b8-346d-486a-a3d4-0236a55abce9"
   },
   "outputs": [],
   "source": [
    "plot_model(kmeans, plot = 'elbow')"
   ]
  },
  {
   "cell_type": "code",
   "execution_count": null,
   "metadata": {
    "colab": {
     "base_uri": "https://localhost:8080/",
     "height": 376,
     "referenced_widgets": [
      "2d93113624d348deb0ce6e5908889eb1",
      "9b8369550ab94f72a8b5c41a586ef232",
      "a511d3cad07843338c0a27f9d5eacd05"
     ]
    },
    "id": "2ewaI2e1gQIf",
    "outputId": "cf8d7616-f380-4924-f1c4-b0aa2aadb514"
   },
   "outputs": [],
   "source": [
    "plot_model(kmeans, plot = 'silhouette')\n",
    "\n",
    "## https://scikit-learn.org/stable/auto_examples/cluster/plot_kmeans_silhouette_analysis.html"
   ]
  },
  {
   "cell_type": "code",
   "execution_count": null,
   "metadata": {
    "colab": {
     "base_uri": "https://localhost:8080/",
     "height": 417
    },
    "id": "3iUGJ9u5xqFF",
    "outputId": "d5d41d5a-7f5a-4821-d147-5d9f79fe1a89"
   },
   "outputs": [],
   "source": [
    "kmeans_df = assign_model(kmeans)\n",
    "kmeans_df"
   ]
  },
  {
   "cell_type": "markdown",
   "metadata": {
    "id": "LfpmEEXJhkH5"
   },
   "source": [
    "# **Interpret results and plan for actions**"
   ]
  },
  {
   "cell_type": "code",
   "execution_count": null,
   "metadata": {
    "id": "AQUh3ZLIv9Vk"
   },
   "outputs": [],
   "source": [
    "#Crate data frame\n",
    "X = kmeans_df.drop(['Cluster','CUST_CODE'],axis=1)\n",
    "y = kmeans_df.Cluster"
   ]
  },
  {
   "cell_type": "code",
   "execution_count": null,
   "metadata": {
    "colab": {
     "base_uri": "https://localhost:8080/"
    },
    "id": "MELsx0des5Zw",
    "outputId": "9abbbc79-9876-4223-d2bd-ee26ce1c23f2"
   },
   "outputs": [],
   "source": [
    "from sklearn.tree import DecisionTreeClassifier\n",
    "from sklearn import tree\n",
    "\n",
    "model = DecisionTreeClassifier(max_depth = 4,random_state = 0)\n",
    "model.fit(X,y)\n"
   ]
  },
  {
   "cell_type": "code",
   "execution_count": null,
   "metadata": {
    "colab": {
     "base_uri": "https://localhost:8080/",
     "height": 575
    },
    "id": "fY9hZXPtwuy0",
    "outputId": "50c08f83-9821-42a2-b691-c91666ba68e6"
   },
   "outputs": [],
   "source": [
    "import matplotlib.pyplot as plt\n",
    "plt.figure(figsize=(30,10))\n",
    "tree.plot_tree(model,feature_names=X.columns,class_names=model.classes_.astype(str),filled=True)\n",
    "plt.show()"
   ]
  },
  {
   "cell_type": "markdown",
   "metadata": {
    "id": "-qYZSbSdrVyt"
   },
   "source": [
    "Conclusion"
   ]
  },
  {
   "cell_type": "markdown",
   "metadata": {
    "id": "TfBT9BoOrDsF"
   },
   "source": [
    "![CRM2.PNG](data:image/png;base64,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)"
   ]
  },
  {
   "cell_type": "code",
   "execution_count": null,
   "metadata": {
    "id": "iDTUBE71rUVw"
   },
   "outputs": [],
   "source": []
  }
 ],
 "metadata": {
  "accelerator": "GPU",
  "colab": {
   "collapsed_sections": [],
   "name": "Customer_Segmentation_Group_9.ipynb",
   "provenance": []
  },
  "kernelspec": {
   "display_name": "Python 3",
   "language": "python",
   "name": "python3"
  },
  "language_info": {
   "codemirror_mode": {
    "name": "ipython",
    "version": 3
   },
   "file_extension": ".py",
   "mimetype": "text/x-python",
   "name": "python",
   "nbconvert_exporter": "python",
   "pygments_lexer": "ipython3",
   "version": "3.7.4"
  },
  "widgets": {
   "application/vnd.jupyter.widget-state+json": {
    "08f1e47e8e5e4e50a2ad7d6b56ae98ee": {
     "model_module": "@jupyter-widgets/base",
     "model_module_version": "1.2.0",
     "model_name": "LayoutModel",
     "state": {
      "_model_module": "@jupyter-widgets/base",
      "_model_module_version": "1.2.0",
      "_model_name": "LayoutModel",
      "_view_count": null,
      "_view_module": "@jupyter-widgets/base",
      "_view_module_version": "1.2.0",
      "_view_name": "LayoutView",
      "align_content": null,
      "align_items": null,
      "align_self": null,
      "border": null,
      "bottom": null,
      "display": null,
      "flex": null,
      "flex_flow": null,
      "grid_area": null,
      "grid_auto_columns": null,
      "grid_auto_flow": null,
      "grid_auto_rows": null,
      "grid_column": null,
      "grid_gap": null,
      "grid_row": null,
      "grid_template_areas": null,
      "grid_template_columns": null,
      "grid_template_rows": null,
      "height": null,
      "justify_content": null,
      "justify_items": null,
      "left": null,
      "margin": null,
      "max_height": null,
      "max_width": null,
      "min_height": null,
      "min_width": null,
      "object_fit": null,
      "object_position": null,
      "order": null,
      "overflow": null,
      "overflow_x": null,
      "overflow_y": null,
      "padding": null,
      "right": null,
      "top": null,
      "visibility": null,
      "width": null
     }
    },
    "1a44314fd36141c68b38a74d5be14c34": {
     "model_module": "@jupyter-widgets/controls",
     "model_module_version": "1.5.0",
     "model_name": "IntProgressModel",
     "state": {
      "_dom_classes": [],
      "_model_module": "@jupyter-widgets/controls",
      "_model_module_version": "1.5.0",
      "_model_name": "IntProgressModel",
      "_view_count": null,
      "_view_module": "@jupyter-widgets/controls",
      "_view_module_version": "1.5.0",
      "_view_name": "ProgressView",
      "bar_style": "",
      "description": "Processing: ",
      "description_tooltip": null,
      "layout": "IPY_MODEL_08f1e47e8e5e4e50a2ad7d6b56ae98ee",
      "max": 5,
      "min": 0,
      "orientation": "horizontal",
      "style": "IPY_MODEL_e60933e8ac3a43a39f92e7c49cb58d50",
      "value": 5
     }
    },
    "2756cc831df14cd6a1b3edfca42fe439": {
     "model_module": "@jupyter-widgets/controls",
     "model_module_version": "1.5.0",
     "model_name": "IntProgressModel",
     "state": {
      "_dom_classes": [],
      "_model_module": "@jupyter-widgets/controls",
      "_model_module_version": "1.5.0",
      "_model_name": "IntProgressModel",
      "_view_count": null,
      "_view_module": "@jupyter-widgets/controls",
      "_view_module_version": "1.5.0",
      "_view_name": "ProgressView",
      "bar_style": "",
      "description": "Processing: ",
      "description_tooltip": null,
      "layout": "IPY_MODEL_45585f4b02d34c2fb9518bb1cd58ea11",
      "max": 3,
      "min": 0,
      "orientation": "horizontal",
      "style": "IPY_MODEL_5783236ed5154a4abab9e5450440ee0f",
      "value": 3
     }
    },
    "27653418ad254c96a8dcc6e101201a9d": {
     "model_module": "@jupyter-widgets/controls",
     "model_module_version": "1.5.0",
     "model_name": "IntProgressModel",
     "state": {
      "_dom_classes": [],
      "_model_module": "@jupyter-widgets/controls",
      "_model_module_version": "1.5.0",
      "_model_name": "IntProgressModel",
      "_view_count": null,
      "_view_module": "@jupyter-widgets/controls",
      "_view_module_version": "1.5.0",
      "_view_name": "ProgressView",
      "bar_style": "",
      "description": "Processing: ",
      "description_tooltip": null,
      "layout": "IPY_MODEL_d7f66f3e3ea84de6858dcf9a87786ba9",
      "max": 3,
      "min": 0,
      "orientation": "horizontal",
      "style": "IPY_MODEL_54bea1c9bb5647a58a104e88b9c25674",
      "value": 3
     }
    },
    "2d93113624d348deb0ce6e5908889eb1": {
     "model_module": "@jupyter-widgets/controls",
     "model_module_version": "1.5.0",
     "model_name": "IntProgressModel",
     "state": {
      "_dom_classes": [],
      "_model_module": "@jupyter-widgets/controls",
      "_model_module_version": "1.5.0",
      "_model_name": "IntProgressModel",
      "_view_count": null,
      "_view_module": "@jupyter-widgets/controls",
      "_view_module_version": "1.5.0",
      "_view_name": "ProgressView",
      "bar_style": "",
      "description": "Processing: ",
      "description_tooltip": null,
      "layout": "IPY_MODEL_a511d3cad07843338c0a27f9d5eacd05",
      "max": 5,
      "min": 0,
      "orientation": "horizontal",
      "style": "IPY_MODEL_9b8369550ab94f72a8b5c41a586ef232",
      "value": 5
     }
    },
    "45585f4b02d34c2fb9518bb1cd58ea11": {
     "model_module": "@jupyter-widgets/base",
     "model_module_version": "1.2.0",
     "model_name": "LayoutModel",
     "state": {
      "_model_module": "@jupyter-widgets/base",
      "_model_module_version": "1.2.0",
      "_model_name": "LayoutModel",
      "_view_count": null,
      "_view_module": "@jupyter-widgets/base",
      "_view_module_version": "1.2.0",
      "_view_name": "LayoutView",
      "align_content": null,
      "align_items": null,
      "align_self": null,
      "border": null,
      "bottom": null,
      "display": null,
      "flex": null,
      "flex_flow": null,
      "grid_area": null,
      "grid_auto_columns": null,
      "grid_auto_flow": null,
      "grid_auto_rows": null,
      "grid_column": null,
      "grid_gap": null,
      "grid_row": null,
      "grid_template_areas": null,
      "grid_template_columns": null,
      "grid_template_rows": null,
      "height": null,
      "justify_content": null,
      "justify_items": null,
      "left": null,
      "margin": null,
      "max_height": null,
      "max_width": null,
      "min_height": null,
      "min_width": null,
      "object_fit": null,
      "object_position": null,
      "order": null,
      "overflow": null,
      "overflow_x": null,
      "overflow_y": null,
      "padding": null,
      "right": null,
      "top": null,
      "visibility": null,
      "width": null
     }
    },
    "455e847530fd45df89c958c14a442bda": {
     "model_module": "@jupyter-widgets/controls",
     "model_module_version": "1.5.0",
     "model_name": "IntProgressModel",
     "state": {
      "_dom_classes": [],
      "_model_module": "@jupyter-widgets/controls",
      "_model_module_version": "1.5.0",
      "_model_name": "IntProgressModel",
      "_view_count": null,
      "_view_module": "@jupyter-widgets/controls",
      "_view_module_version": "1.5.0",
      "_view_name": "ProgressView",
      "bar_style": "",
      "description": "Processing: ",
      "description_tooltip": null,
      "layout": "IPY_MODEL_c9aea1858d024349ac204df3d98e067b",
      "max": 3,
      "min": 0,
      "orientation": "horizontal",
      "style": "IPY_MODEL_d089d80219ff4cf19f74dd857e9b4bb8",
      "value": 3
     }
    },
    "54bea1c9bb5647a58a104e88b9c25674": {
     "model_module": "@jupyter-widgets/controls",
     "model_module_version": "1.5.0",
     "model_name": "ProgressStyleModel",
     "state": {
      "_model_module": "@jupyter-widgets/controls",
      "_model_module_version": "1.5.0",
      "_model_name": "ProgressStyleModel",
      "_view_count": null,
      "_view_module": "@jupyter-widgets/base",
      "_view_module_version": "1.2.0",
      "_view_name": "StyleView",
      "bar_color": null,
      "description_width": ""
     }
    },
    "56b16badb9db444ab49f373541144534": {
     "model_module": "@jupyter-widgets/base",
     "model_module_version": "1.2.0",
     "model_name": "LayoutModel",
     "state": {
      "_model_module": "@jupyter-widgets/base",
      "_model_module_version": "1.2.0",
      "_model_name": "LayoutModel",
      "_view_count": null,
      "_view_module": "@jupyter-widgets/base",
      "_view_module_version": "1.2.0",
      "_view_name": "LayoutView",
      "align_content": null,
      "align_items": null,
      "align_self": null,
      "border": null,
      "bottom": null,
      "display": null,
      "flex": null,
      "flex_flow": null,
      "grid_area": null,
      "grid_auto_columns": null,
      "grid_auto_flow": null,
      "grid_auto_rows": null,
      "grid_column": null,
      "grid_gap": null,
      "grid_row": null,
      "grid_template_areas": null,
      "grid_template_columns": null,
      "grid_template_rows": null,
      "height": null,
      "justify_content": null,
      "justify_items": null,
      "left": null,
      "margin": null,
      "max_height": null,
      "max_width": null,
      "min_height": null,
      "min_width": null,
      "object_fit": null,
      "object_position": null,
      "order": null,
      "overflow": null,
      "overflow_x": null,
      "overflow_y": null,
      "padding": null,
      "right": null,
      "top": null,
      "visibility": null,
      "width": null
     }
    },
    "5783236ed5154a4abab9e5450440ee0f": {
     "model_module": "@jupyter-widgets/controls",
     "model_module_version": "1.5.0",
     "model_name": "ProgressStyleModel",
     "state": {
      "_model_module": "@jupyter-widgets/controls",
      "_model_module_version": "1.5.0",
      "_model_name": "ProgressStyleModel",
      "_view_count": null,
      "_view_module": "@jupyter-widgets/base",
      "_view_module_version": "1.2.0",
      "_view_name": "StyleView",
      "bar_color": null,
      "description_width": ""
     }
    },
    "60683a2b098744098e167b18cd9f7d75": {
     "model_module": "@jupyter-widgets/base",
     "model_module_version": "1.2.0",
     "model_name": "LayoutModel",
     "state": {
      "_model_module": "@jupyter-widgets/base",
      "_model_module_version": "1.2.0",
      "_model_name": "LayoutModel",
      "_view_count": null,
      "_view_module": "@jupyter-widgets/base",
      "_view_module_version": "1.2.0",
      "_view_name": "LayoutView",
      "align_content": null,
      "align_items": null,
      "align_self": null,
      "border": null,
      "bottom": null,
      "display": null,
      "flex": null,
      "flex_flow": null,
      "grid_area": null,
      "grid_auto_columns": null,
      "grid_auto_flow": null,
      "grid_auto_rows": null,
      "grid_column": null,
      "grid_gap": null,
      "grid_row": null,
      "grid_template_areas": null,
      "grid_template_columns": null,
      "grid_template_rows": null,
      "height": null,
      "justify_content": null,
      "justify_items": null,
      "left": null,
      "margin": null,
      "max_height": null,
      "max_width": null,
      "min_height": null,
      "min_width": null,
      "object_fit": null,
      "object_position": null,
      "order": null,
      "overflow": null,
      "overflow_x": null,
      "overflow_y": null,
      "padding": null,
      "right": null,
      "top": null,
      "visibility": null,
      "width": null
     }
    },
    "68dfc88236ff47cd965e6a58f2ce2a9d": {
     "model_module": "@jupyter-widgets/controls",
     "model_module_version": "1.5.0",
     "model_name": "ProgressStyleModel",
     "state": {
      "_model_module": "@jupyter-widgets/controls",
      "_model_module_version": "1.5.0",
      "_model_name": "ProgressStyleModel",
      "_view_count": null,
      "_view_module": "@jupyter-widgets/base",
      "_view_module_version": "1.2.0",
      "_view_name": "StyleView",
      "bar_color": null,
      "description_width": ""
     }
    },
    "798ed3bbe6364287ac243d2c6da2b00d": {
     "model_module": "@jupyter-widgets/controls",
     "model_module_version": "1.5.0",
     "model_name": "TextModel",
     "state": {
      "_dom_classes": [],
      "_model_module": "@jupyter-widgets/controls",
      "_model_module_version": "1.5.0",
      "_model_name": "TextModel",
      "_view_count": null,
      "_view_module": "@jupyter-widgets/controls",
      "_view_module_version": "1.5.0",
      "_view_name": "TextView",
      "continuous_update": true,
      "description": "",
      "description_tooltip": null,
      "disabled": false,
      "layout": "IPY_MODEL_ae36964831364b049e4acb21dc837c97",
      "placeholder": "​",
      "style": "IPY_MODEL_a16cd9bc1c0f4cafbd285c4e94d8cc1b",
      "value": "Following data types have been inferred automatically, if they are correct press enter to continue or type 'quit' otherwise."
     }
    },
    "7d5bd6925b2c4f98a63722690705227f": {
     "model_module": "@jupyter-widgets/controls",
     "model_module_version": "1.5.0",
     "model_name": "ProgressStyleModel",
     "state": {
      "_model_module": "@jupyter-widgets/controls",
      "_model_module_version": "1.5.0",
      "_model_name": "ProgressStyleModel",
      "_view_count": null,
      "_view_module": "@jupyter-widgets/base",
      "_view_module_version": "1.2.0",
      "_view_name": "StyleView",
      "bar_color": null,
      "description_width": ""
     }
    },
    "86c79c214d4e47cfbd92ad4c7ede5c92": {
     "model_module": "@jupyter-widgets/base",
     "model_module_version": "1.2.0",
     "model_name": "LayoutModel",
     "state": {
      "_model_module": "@jupyter-widgets/base",
      "_model_module_version": "1.2.0",
      "_model_name": "LayoutModel",
      "_view_count": null,
      "_view_module": "@jupyter-widgets/base",
      "_view_module_version": "1.2.0",
      "_view_name": "LayoutView",
      "align_content": null,
      "align_items": null,
      "align_self": null,
      "border": null,
      "bottom": null,
      "display": null,
      "flex": null,
      "flex_flow": null,
      "grid_area": null,
      "grid_auto_columns": null,
      "grid_auto_flow": null,
      "grid_auto_rows": null,
      "grid_column": null,
      "grid_gap": null,
      "grid_row": null,
      "grid_template_areas": null,
      "grid_template_columns": null,
      "grid_template_rows": null,
      "height": null,
      "justify_content": null,
      "justify_items": null,
      "left": null,
      "margin": null,
      "max_height": null,
      "max_width": null,
      "min_height": null,
      "min_width": null,
      "object_fit": null,
      "object_position": null,
      "order": null,
      "overflow": null,
      "overflow_x": null,
      "overflow_y": null,
      "padding": null,
      "right": null,
      "top": null,
      "visibility": null,
      "width": null
     }
    },
    "91ef84c0f809414babb478a755eb12bb": {
     "model_module": "@jupyter-widgets/controls",
     "model_module_version": "1.5.0",
     "model_name": "IntProgressModel",
     "state": {
      "_dom_classes": [],
      "_model_module": "@jupyter-widgets/controls",
      "_model_module_version": "1.5.0",
      "_model_name": "IntProgressModel",
      "_view_count": null,
      "_view_module": "@jupyter-widgets/controls",
      "_view_module_version": "1.5.0",
      "_view_name": "ProgressView",
      "bar_style": "",
      "description": "Processing: ",
      "description_tooltip": null,
      "layout": "IPY_MODEL_cb45bb3011db41dba7d4e007119fae5c",
      "max": 3,
      "min": 0,
      "orientation": "horizontal",
      "style": "IPY_MODEL_68dfc88236ff47cd965e6a58f2ce2a9d",
      "value": 3
     }
    },
    "9b8369550ab94f72a8b5c41a586ef232": {
     "model_module": "@jupyter-widgets/controls",
     "model_module_version": "1.5.0",
     "model_name": "ProgressStyleModel",
     "state": {
      "_model_module": "@jupyter-widgets/controls",
      "_model_module_version": "1.5.0",
      "_model_name": "ProgressStyleModel",
      "_view_count": null,
      "_view_module": "@jupyter-widgets/base",
      "_view_module_version": "1.2.0",
      "_view_name": "StyleView",
      "bar_color": null,
      "description_width": ""
     }
    },
    "a16cd9bc1c0f4cafbd285c4e94d8cc1b": {
     "model_module": "@jupyter-widgets/controls",
     "model_module_version": "1.5.0",
     "model_name": "DescriptionStyleModel",
     "state": {
      "_model_module": "@jupyter-widgets/controls",
      "_model_module_version": "1.5.0",
      "_model_name": "DescriptionStyleModel",
      "_view_count": null,
      "_view_module": "@jupyter-widgets/base",
      "_view_module_version": "1.2.0",
      "_view_name": "StyleView",
      "description_width": ""
     }
    },
    "a511d3cad07843338c0a27f9d5eacd05": {
     "model_module": "@jupyter-widgets/base",
     "model_module_version": "1.2.0",
     "model_name": "LayoutModel",
     "state": {
      "_model_module": "@jupyter-widgets/base",
      "_model_module_version": "1.2.0",
      "_model_name": "LayoutModel",
      "_view_count": null,
      "_view_module": "@jupyter-widgets/base",
      "_view_module_version": "1.2.0",
      "_view_name": "LayoutView",
      "align_content": null,
      "align_items": null,
      "align_self": null,
      "border": null,
      "bottom": null,
      "display": null,
      "flex": null,
      "flex_flow": null,
      "grid_area": null,
      "grid_auto_columns": null,
      "grid_auto_flow": null,
      "grid_auto_rows": null,
      "grid_column": null,
      "grid_gap": null,
      "grid_row": null,
      "grid_template_areas": null,
      "grid_template_columns": null,
      "grid_template_rows": null,
      "height": null,
      "justify_content": null,
      "justify_items": null,
      "left": null,
      "margin": null,
      "max_height": null,
      "max_width": null,
      "min_height": null,
      "min_width": null,
      "object_fit": null,
      "object_position": null,
      "order": null,
      "overflow": null,
      "overflow_x": null,
      "overflow_y": null,
      "padding": null,
      "right": null,
      "top": null,
      "visibility": null,
      "width": null
     }
    },
    "ae36964831364b049e4acb21dc837c97": {
     "model_module": "@jupyter-widgets/base",
     "model_module_version": "1.2.0",
     "model_name": "LayoutModel",
     "state": {
      "_model_module": "@jupyter-widgets/base",
      "_model_module_version": "1.2.0",
      "_model_name": "LayoutModel",
      "_view_count": null,
      "_view_module": "@jupyter-widgets/base",
      "_view_module_version": "1.2.0",
      "_view_name": "LayoutView",
      "align_content": null,
      "align_items": null,
      "align_self": null,
      "border": null,
      "bottom": null,
      "display": null,
      "flex": null,
      "flex_flow": null,
      "grid_area": null,
      "grid_auto_columns": null,
      "grid_auto_flow": null,
      "grid_auto_rows": null,
      "grid_column": null,
      "grid_gap": null,
      "grid_row": null,
      "grid_template_areas": null,
      "grid_template_columns": null,
      "grid_template_rows": null,
      "height": null,
      "justify_content": null,
      "justify_items": null,
      "left": null,
      "margin": null,
      "max_height": null,
      "max_width": null,
      "min_height": null,
      "min_width": null,
      "object_fit": null,
      "object_position": null,
      "order": null,
      "overflow": null,
      "overflow_x": null,
      "overflow_y": null,
      "padding": null,
      "right": null,
      "top": null,
      "visibility": null,
      "width": "100%"
     }
    },
    "b0c9c956d0da4ef3b97fbe34076478f5": {
     "model_module": "@jupyter-widgets/controls",
     "model_module_version": "1.5.0",
     "model_name": "IntProgressModel",
     "state": {
      "_dom_classes": [],
      "_model_module": "@jupyter-widgets/controls",
      "_model_module_version": "1.5.0",
      "_model_name": "IntProgressModel",
      "_view_count": null,
      "_view_module": "@jupyter-widgets/controls",
      "_view_module_version": "1.5.0",
      "_view_name": "ProgressView",
      "bar_style": "",
      "description": "Processing: ",
      "description_tooltip": null,
      "layout": "IPY_MODEL_60683a2b098744098e167b18cd9f7d75",
      "max": 3,
      "min": 0,
      "orientation": "horizontal",
      "style": "IPY_MODEL_d4f252800032496cb14ae40399934e6f",
      "value": 0
     }
    },
    "bcc5ea7c0dfc43d2b053dd8e3924b565": {
     "model_module": "@jupyter-widgets/controls",
     "model_module_version": "1.5.0",
     "model_name": "ProgressStyleModel",
     "state": {
      "_model_module": "@jupyter-widgets/controls",
      "_model_module_version": "1.5.0",
      "_model_name": "ProgressStyleModel",
      "_view_count": null,
      "_view_module": "@jupyter-widgets/base",
      "_view_module_version": "1.2.0",
      "_view_name": "StyleView",
      "bar_color": null,
      "description_width": ""
     }
    },
    "c61c61e86d1e4cc58eaf2d0616d685d6": {
     "model_module": "@jupyter-widgets/controls",
     "model_module_version": "1.5.0",
     "model_name": "IntProgressModel",
     "state": {
      "_dom_classes": [],
      "_model_module": "@jupyter-widgets/controls",
      "_model_module_version": "1.5.0",
      "_model_name": "IntProgressModel",
      "_view_count": null,
      "_view_module": "@jupyter-widgets/controls",
      "_view_module_version": "1.5.0",
      "_view_name": "ProgressView",
      "bar_style": "",
      "description": "Processing: ",
      "description_tooltip": null,
      "layout": "IPY_MODEL_86c79c214d4e47cfbd92ad4c7ede5c92",
      "max": 3,
      "min": 0,
      "orientation": "horizontal",
      "style": "IPY_MODEL_bcc5ea7c0dfc43d2b053dd8e3924b565",
      "value": 3
     }
    },
    "c821ff6d6aeb49ba9bbfe8e027c81fbe": {
     "model_module": "@jupyter-widgets/controls",
     "model_module_version": "1.5.0",
     "model_name": "IntProgressModel",
     "state": {
      "_dom_classes": [],
      "_model_module": "@jupyter-widgets/controls",
      "_model_module_version": "1.5.0",
      "_model_name": "IntProgressModel",
      "_view_count": null,
      "_view_module": "@jupyter-widgets/controls",
      "_view_module_version": "1.5.0",
      "_view_name": "ProgressView",
      "bar_style": "",
      "description": "Processing: ",
      "description_tooltip": null,
      "layout": "IPY_MODEL_56b16badb9db444ab49f373541144534",
      "max": 3,
      "min": 0,
      "orientation": "horizontal",
      "style": "IPY_MODEL_7d5bd6925b2c4f98a63722690705227f",
      "value": 3
     }
    },
    "c9aea1858d024349ac204df3d98e067b": {
     "model_module": "@jupyter-widgets/base",
     "model_module_version": "1.2.0",
     "model_name": "LayoutModel",
     "state": {
      "_model_module": "@jupyter-widgets/base",
      "_model_module_version": "1.2.0",
      "_model_name": "LayoutModel",
      "_view_count": null,
      "_view_module": "@jupyter-widgets/base",
      "_view_module_version": "1.2.0",
      "_view_name": "LayoutView",
      "align_content": null,
      "align_items": null,
      "align_self": null,
      "border": null,
      "bottom": null,
      "display": null,
      "flex": null,
      "flex_flow": null,
      "grid_area": null,
      "grid_auto_columns": null,
      "grid_auto_flow": null,
      "grid_auto_rows": null,
      "grid_column": null,
      "grid_gap": null,
      "grid_row": null,
      "grid_template_areas": null,
      "grid_template_columns": null,
      "grid_template_rows": null,
      "height": null,
      "justify_content": null,
      "justify_items": null,
      "left": null,
      "margin": null,
      "max_height": null,
      "max_width": null,
      "min_height": null,
      "min_width": null,
      "object_fit": null,
      "object_position": null,
      "order": null,
      "overflow": null,
      "overflow_x": null,
      "overflow_y": null,
      "padding": null,
      "right": null,
      "top": null,
      "visibility": null,
      "width": null
     }
    },
    "cb45bb3011db41dba7d4e007119fae5c": {
     "model_module": "@jupyter-widgets/base",
     "model_module_version": "1.2.0",
     "model_name": "LayoutModel",
     "state": {
      "_model_module": "@jupyter-widgets/base",
      "_model_module_version": "1.2.0",
      "_model_name": "LayoutModel",
      "_view_count": null,
      "_view_module": "@jupyter-widgets/base",
      "_view_module_version": "1.2.0",
      "_view_name": "LayoutView",
      "align_content": null,
      "align_items": null,
      "align_self": null,
      "border": null,
      "bottom": null,
      "display": null,
      "flex": null,
      "flex_flow": null,
      "grid_area": null,
      "grid_auto_columns": null,
      "grid_auto_flow": null,
      "grid_auto_rows": null,
      "grid_column": null,
      "grid_gap": null,
      "grid_row": null,
      "grid_template_areas": null,
      "grid_template_columns": null,
      "grid_template_rows": null,
      "height": null,
      "justify_content": null,
      "justify_items": null,
      "left": null,
      "margin": null,
      "max_height": null,
      "max_width": null,
      "min_height": null,
      "min_width": null,
      "object_fit": null,
      "object_position": null,
      "order": null,
      "overflow": null,
      "overflow_x": null,
      "overflow_y": null,
      "padding": null,
      "right": null,
      "top": null,
      "visibility": null,
      "width": null
     }
    },
    "d089d80219ff4cf19f74dd857e9b4bb8": {
     "model_module": "@jupyter-widgets/controls",
     "model_module_version": "1.5.0",
     "model_name": "ProgressStyleModel",
     "state": {
      "_model_module": "@jupyter-widgets/controls",
      "_model_module_version": "1.5.0",
      "_model_name": "ProgressStyleModel",
      "_view_count": null,
      "_view_module": "@jupyter-widgets/base",
      "_view_module_version": "1.2.0",
      "_view_name": "StyleView",
      "bar_color": null,
      "description_width": ""
     }
    },
    "d1c00dc0cab244ec8d9e52ed5b3299fc": {
     "model_module": "@jupyter-widgets/controls",
     "model_module_version": "1.5.0",
     "model_name": "IntProgressModel",
     "state": {
      "_dom_classes": [],
      "_model_module": "@jupyter-widgets/controls",
      "_model_module_version": "1.5.0",
      "_model_name": "IntProgressModel",
      "_view_count": null,
      "_view_module": "@jupyter-widgets/controls",
      "_view_module_version": "1.5.0",
      "_view_name": "ProgressView",
      "bar_style": "",
      "description": "Processing: ",
      "description_tooltip": null,
      "layout": "IPY_MODEL_eb97f2e893ae471698cce0ebafea3d3f",
      "max": 3,
      "min": 0,
      "orientation": "horizontal",
      "style": "IPY_MODEL_e7ed0c091ba44ea595d5e82153b9aea5",
      "value": 3
     }
    },
    "d4f252800032496cb14ae40399934e6f": {
     "model_module": "@jupyter-widgets/controls",
     "model_module_version": "1.5.0",
     "model_name": "ProgressStyleModel",
     "state": {
      "_model_module": "@jupyter-widgets/controls",
      "_model_module_version": "1.5.0",
      "_model_name": "ProgressStyleModel",
      "_view_count": null,
      "_view_module": "@jupyter-widgets/base",
      "_view_module_version": "1.2.0",
      "_view_name": "StyleView",
      "bar_color": null,
      "description_width": ""
     }
    },
    "d7f66f3e3ea84de6858dcf9a87786ba9": {
     "model_module": "@jupyter-widgets/base",
     "model_module_version": "1.2.0",
     "model_name": "LayoutModel",
     "state": {
      "_model_module": "@jupyter-widgets/base",
      "_model_module_version": "1.2.0",
      "_model_name": "LayoutModel",
      "_view_count": null,
      "_view_module": "@jupyter-widgets/base",
      "_view_module_version": "1.2.0",
      "_view_name": "LayoutView",
      "align_content": null,
      "align_items": null,
      "align_self": null,
      "border": null,
      "bottom": null,
      "display": null,
      "flex": null,
      "flex_flow": null,
      "grid_area": null,
      "grid_auto_columns": null,
      "grid_auto_flow": null,
      "grid_auto_rows": null,
      "grid_column": null,
      "grid_gap": null,
      "grid_row": null,
      "grid_template_areas": null,
      "grid_template_columns": null,
      "grid_template_rows": null,
      "height": null,
      "justify_content": null,
      "justify_items": null,
      "left": null,
      "margin": null,
      "max_height": null,
      "max_width": null,
      "min_height": null,
      "min_width": null,
      "object_fit": null,
      "object_position": null,
      "order": null,
      "overflow": null,
      "overflow_x": null,
      "overflow_y": null,
      "padding": null,
      "right": null,
      "top": null,
      "visibility": null,
      "width": null
     }
    },
    "e60933e8ac3a43a39f92e7c49cb58d50": {
     "model_module": "@jupyter-widgets/controls",
     "model_module_version": "1.5.0",
     "model_name": "ProgressStyleModel",
     "state": {
      "_model_module": "@jupyter-widgets/controls",
      "_model_module_version": "1.5.0",
      "_model_name": "ProgressStyleModel",
      "_view_count": null,
      "_view_module": "@jupyter-widgets/base",
      "_view_module_version": "1.2.0",
      "_view_name": "StyleView",
      "bar_color": null,
      "description_width": ""
     }
    },
    "e7ed0c091ba44ea595d5e82153b9aea5": {
     "model_module": "@jupyter-widgets/controls",
     "model_module_version": "1.5.0",
     "model_name": "ProgressStyleModel",
     "state": {
      "_model_module": "@jupyter-widgets/controls",
      "_model_module_version": "1.5.0",
      "_model_name": "ProgressStyleModel",
      "_view_count": null,
      "_view_module": "@jupyter-widgets/base",
      "_view_module_version": "1.2.0",
      "_view_name": "StyleView",
      "bar_color": null,
      "description_width": ""
     }
    },
    "eb97f2e893ae471698cce0ebafea3d3f": {
     "model_module": "@jupyter-widgets/base",
     "model_module_version": "1.2.0",
     "model_name": "LayoutModel",
     "state": {
      "_model_module": "@jupyter-widgets/base",
      "_model_module_version": "1.2.0",
      "_model_name": "LayoutModel",
      "_view_count": null,
      "_view_module": "@jupyter-widgets/base",
      "_view_module_version": "1.2.0",
      "_view_name": "LayoutView",
      "align_content": null,
      "align_items": null,
      "align_self": null,
      "border": null,
      "bottom": null,
      "display": null,
      "flex": null,
      "flex_flow": null,
      "grid_area": null,
      "grid_auto_columns": null,
      "grid_auto_flow": null,
      "grid_auto_rows": null,
      "grid_column": null,
      "grid_gap": null,
      "grid_row": null,
      "grid_template_areas": null,
      "grid_template_columns": null,
      "grid_template_rows": null,
      "height": null,
      "justify_content": null,
      "justify_items": null,
      "left": null,
      "margin": null,
      "max_height": null,
      "max_width": null,
      "min_height": null,
      "min_width": null,
      "object_fit": null,
      "object_position": null,
      "order": null,
      "overflow": null,
      "overflow_x": null,
      "overflow_y": null,
      "padding": null,
      "right": null,
      "top": null,
      "visibility": null,
      "width": null
     }
    }
   }
  }
 },
 "nbformat": 4,
 "nbformat_minor": 1
}
